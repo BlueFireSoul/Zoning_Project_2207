{
 "cells": [
  {
   "cell_type": "code",
   "execution_count": 2,
   "metadata": {},
   "outputs": [
    {
     "ename": "OSError",
     "evalue": "\"C:/Users/dmh5950/OneDrive - The Pennsylvania State University/2207 - Zoning - database/raw/tl_2019_tract\\tl_2019_tract_-f.shp\" does not exist",
     "output_type": "error",
     "traceback": [
      "\u001b[1;31m---------------------------------------------------------------------------\u001b[0m",
      "\u001b[1;31mOSError\u001b[0m                                   Traceback (most recent call last)",
      "\u001b[1;32m<ipython-input-2-59a637dea970>\u001b[0m in \u001b[0;36m<module>\u001b[1;34m\u001b[0m\n\u001b[0;32m     15\u001b[0m \u001b[1;33m\u001b[0m\u001b[0m\n\u001b[0;32m     16\u001b[0m \u001b[1;31m# Ensure both shapefiles are in the same coordinate system\u001b[0m\u001b[1;33m\u001b[0m\u001b[1;33m\u001b[0m\u001b[0m\n\u001b[1;32m---> 17\u001b[1;33m \u001b[0mshp1_desc\u001b[0m \u001b[1;33m=\u001b[0m \u001b[0marcpy\u001b[0m\u001b[1;33m.\u001b[0m\u001b[0mDescribe\u001b[0m\u001b[1;33m(\u001b[0m\u001b[0mshp1\u001b[0m\u001b[1;33m)\u001b[0m\u001b[1;33m\u001b[0m\u001b[1;33m\u001b[0m\u001b[0m\n\u001b[0m\u001b[0;32m     18\u001b[0m \u001b[0mshp2_desc\u001b[0m \u001b[1;33m=\u001b[0m \u001b[0marcpy\u001b[0m\u001b[1;33m.\u001b[0m\u001b[0mDescribe\u001b[0m\u001b[1;33m(\u001b[0m\u001b[0mshp2\u001b[0m\u001b[1;33m)\u001b[0m\u001b[1;33m\u001b[0m\u001b[1;33m\u001b[0m\u001b[0m\n\u001b[0;32m     19\u001b[0m \u001b[1;33m\u001b[0m\u001b[0m\n",
      "\u001b[1;32mC:\\Program Files\\ArcGIS\\Pro\\Resources\\ArcPy\\arcpy\\__init__.py\u001b[0m in \u001b[0;36mDescribe\u001b[1;34m(value, data_type)\u001b[0m\n\u001b[0;32m   1273\u001b[0m        \u001b[1;32mclass\u001b[0m \u001b[1;32mwith\u001b[0m \u001b[0mthe\u001b[0m \u001b[0msame\u001b[0m \u001b[0mname\u001b[0m\u001b[1;33m.\u001b[0m \u001b[0mIn\u001b[0m \u001b[0mthis\u001b[0m \u001b[0mcase\u001b[0m\u001b[1;33m,\u001b[0m \u001b[0mthe\u001b[0m \u001b[0mdata\u001b[0m \u001b[0mtype\u001b[0m \u001b[1;32mis\u001b[0m \u001b[0mused\u001b[0m \u001b[0mto\u001b[0m \u001b[0mclarify\u001b[0m\u001b[1;33m\u001b[0m\u001b[1;33m\u001b[0m\u001b[0m\n\u001b[0;32m   1274\u001b[0m        which dataset you want to describe.\"\"\"\n\u001b[1;32m-> 1275\u001b[1;33m     \u001b[1;32mreturn\u001b[0m \u001b[0mgp\u001b[0m\u001b[1;33m.\u001b[0m\u001b[0mdescribe\u001b[0m\u001b[1;33m(\u001b[0m\u001b[0mvalue\u001b[0m\u001b[1;33m,\u001b[0m \u001b[0mdata_type\u001b[0m\u001b[1;33m)\u001b[0m\u001b[1;33m\u001b[0m\u001b[1;33m\u001b[0m\u001b[0m\n\u001b[0m\u001b[0;32m   1276\u001b[0m \u001b[1;33m\u001b[0m\u001b[0m\n\u001b[0;32m   1277\u001b[0m \u001b[1;32mdef\u001b[0m \u001b[0mCreateObject\u001b[0m\u001b[1;33m(\u001b[0m\u001b[0mname\u001b[0m\u001b[1;33m,\u001b[0m \u001b[0moptions\u001b[0m\u001b[1;33m=\u001b[0m\u001b[1;32mNone\u001b[0m\u001b[1;33m)\u001b[0m\u001b[1;33m:\u001b[0m\u001b[1;33m\u001b[0m\u001b[1;33m\u001b[0m\u001b[0m\n",
      "\u001b[1;32mC:\\Program Files\\ArcGIS\\Pro\\Resources\\ArcPy\\arcpy\\geoprocessing\\_base.py\u001b[0m in \u001b[0;36mdescribe\u001b[1;34m(self, *args)\u001b[0m\n\u001b[0;32m    382\u001b[0m         \u001b[1;32mfrom\u001b[0m \u001b[0marcpy\u001b[0m\u001b[1;33m.\u001b[0m\u001b[0marcobjects\u001b[0m\u001b[1;33m.\u001b[0m\u001b[0marcobjectconversion\u001b[0m \u001b[1;32mimport\u001b[0m \u001b[0mconvertArcObjectToPythonObject\u001b[0m\u001b[1;33m\u001b[0m\u001b[1;33m\u001b[0m\u001b[0m\n\u001b[0;32m    383\u001b[0m         return convertArcObjectToPythonObject(\n\u001b[1;32m--> 384\u001b[1;33m                     self._gp.Describe(*gp_fixargs(args, True)))\n\u001b[0m\u001b[0;32m    385\u001b[0m     \u001b[1;32mdef\u001b[0m \u001b[0mcreateObject\u001b[0m\u001b[1;33m(\u001b[0m\u001b[0mself\u001b[0m\u001b[1;33m,\u001b[0m \u001b[1;33m*\u001b[0m\u001b[0margs\u001b[0m\u001b[1;33m)\u001b[0m\u001b[1;33m:\u001b[0m\u001b[1;33m\u001b[0m\u001b[1;33m\u001b[0m\u001b[0m\n\u001b[0;32m    386\u001b[0m         \u001b[1;34m\"\"\"GP function CreateObject\"\"\"\u001b[0m\u001b[1;33m\u001b[0m\u001b[1;33m\u001b[0m\u001b[0m\n",
      "\u001b[1;31mOSError\u001b[0m: \"C:/Users/dmh5950/OneDrive - The Pennsylvania State University/2207 - Zoning - database/raw/tl_2019_tract\\tl_2019_tract_-f.shp\" does not exist"
     ]
    }
   ],
   "source": [
    "import os\n",
    "import getpass\n",
    "import sys\n",
    "current_user = getpass.getuser()\n",
    "sys.path.append(f\"C:/Users/{current_user}/OneDrive - The Pennsylvania State University/2207 - Zoning - exercise\")\n",
    "from config import *\n",
    "\n",
    "import arcpy\n",
    "import pandas as pd\n",
    "from os import path\n",
    "\n",
    "# Input Shapefiles\n",
    "shp1 = tract2019_shp\n",
    "shp2 = os.path.join(temp_dir, 'scag_filter/2016_Land_Use_Information_for_Orange_County.shp')\n",
    "\n",
    "# Ensure both shapefiles are in the same coordinate system\n",
    "shp1_desc = arcpy.Describe(shp1)\n",
    "shp2_desc = arcpy.Describe(shp2)\n",
    "\n",
    "if shp1_desc.spatialReference.name != shp2_desc.spatialReference.name:\n",
    "    shp2 = arcpy.Project_management(shp2, path.splitext(shp2)[0] + \"_projected.shp\", shp1_desc.spatialReference).getOutput(0)\n"
   ]
  },
  {
   "cell_type": "code",
   "execution_count": null,
   "metadata": {},
   "outputs": [],
   "source": [
    "\n",
    "# Intersect shapefiles\n",
    "intersect_shp = arcpy.Intersect_analysis([shp1, shp2], \"in_memory/intersect\")\n",
    "\n"
   ]
  },
  {
   "cell_type": "code",
   "execution_count": null,
   "metadata": {},
   "outputs": [],
   "source": [
    "# Calculate area for intersected shapefile and the second shapefile\n",
    "arcpy.AddField_management(intersect_shp, \"Intersect_Area\", \"DOUBLE\")\n",
    "arcpy.CalculateField_management(intersect_shp, \"Intersect_Area\", \"!shape.area!\", \"PYTHON3\")\n",
    "\n",
    "arcpy.AddField_management(shp2, \"Shape_Area\", \"DOUBLE\")\n",
    "arcpy.CalculateField_management(shp2, \"Shape_Area\", \"!shape.area!\", \"PYTHON3\")\n",
    "\n",
    "# Join attributes from the second shapefile\n",
    "arcpy.JoinField_management(intersect_shp, arcpy.Describe(intersect_shp).OIDFieldName, shp2, arcpy.Describe(shp2).OIDFieldName)\n",
    "\n",
    "# Calculate the percentage of the area of the second shapefile that intersects with the first shapefile\n",
    "arcpy.AddField_management(intersect_shp, \"Percentage\", \"DOUBLE\")\n",
    "arcpy.CalculateField_management(intersect_shp, \"Percentage\", \"(!Intersect_Area! / !Shape_Area!) * 100\", \"PYTHON3\")\n",
    "\n",
    "# Convert to pandas DataFrame\n",
    "attribute_list = [field.name for field in arcpy.ListFields(intersect_shp)]\n",
    "data = [row for row in arcpy.da.SearchCursor(intersect_shp, attribute_list)]\n",
    "df = pd.DataFrame(data, columns=attribute_list)\n",
    "\n",
    "# Write DataFrame to CSV\n",
    "df.to_csv(temp_dir + \"la_intersection.csv\", index=False)"
   ]
  },
  {
   "cell_type": "code",
   "execution_count": null,
   "metadata": {},
   "outputs": [],
   "source": []
  }
 ],
 "metadata": {
  "kernelspec": {
   "display_name": "Python 3",
   "language": "python",
   "name": "python3"
  },
  "language_info": {
   "codemirror_mode": {
    "name": "ipython",
    "version": 3
   },
   "file_extension": ".py",
   "mimetype": "text/x-python",
   "name": "python",
   "nbconvert_exporter": "python",
   "pygments_lexer": "ipython3",
   "version": "3.9.11"
  }
 },
 "nbformat": 4,
 "nbformat_minor": 2
}
