{
 "cells": [
  {
   "attachments": {},
   "cell_type": "markdown",
   "metadata": {},
   "source": [
    "This code make necessary adjustments to the code in 1. Run 1a immediately after running 1. "
   ]
  },
  {
   "cell_type": "code",
   "execution_count": 21,
   "metadata": {},
   "outputs": [],
   "source": [
    "import os\n",
    "import getpass\n",
    "import sys\n",
    "current_user = getpass.getuser()\n",
    "sys.path.append(f\"C:/Users/{current_user}/OneDrive - The Pennsylvania State University/2207 - Zoning - exercise\")\n",
    "from config import *\n",
    "import geopandas as gpd\n",
    "import pandas as pd\n",
    "mapc_sf = gpd.read_file(mapc_shp)\n",
    "for index, row in mapc_sf.iterrows():\n",
    "    polygon = row['geometry']\n",
    "    mapc_sf.loc[index, 'geometry'] = polygon.convex_hull\n",
    "mapc_sf = mapc_sf.to_crs(epsg=4326)\n",
    "\n",
    "gdf = gpd.read_file(tract2019_shp)\n",
    "centroid_list = gdf[['STATEFP','COUNTYFP','TRACTCE','INTPTLAT','INTPTLON']]\n",
    "centroid_gdf = gpd.GeoDataFrame(centroid_list, geometry=gpd.points_from_xy(centroid_list[\"INTPTLON\"], centroid_list[\"INTPTLAT\"]))\n",
    "centroid_gdf = centroid_gdf.set_crs(epsg=4326)\n",
    "\n",
    "geodf = gpd.sjoin(centroid_gdf, mapc_sf, predicate='intersects', how = \"inner\")\n",
    "\n",
    "geodf_list = geodf[['STATEFP','COUNTYFP','TRACTCE','INTPTLAT','INTPTLON']].drop_duplicates()\n"
   ]
  },
  {
   "cell_type": "code",
   "execution_count": 25,
   "metadata": {},
   "outputs": [
    {
     "name": "stdout",
     "output_type": "stream",
     "text": [
      "     STATEFP  COUNTYFP  TRACTCE   INTPTLAT   INTPTLON  tract_index\n",
      "0         25        25   170501  42.415033 -70.990222            0\n",
      "1         25        25   170702  42.406567 -70.997479            1\n",
      "2         25        27   715100  42.439933 -71.601885            2\n",
      "3         25        21   418004  42.238376 -71.010499            3\n",
      "4         25        21   417902  42.246302 -70.990692            4\n",
      "..       ...       ...      ...        ...        ...          ...\n",
      "700       25        21   422302  42.189154 -70.939244          700\n",
      "701       25        17   363202  42.479293 -71.466853          701\n",
      "702       25        21   410400  42.087421 -71.251974          702\n",
      "703       25        21   408102  42.146466 -71.415591          703\n",
      "704       25        21   423100  42.229395 -70.827123          704\n",
      "\n",
      "[705 rows x 6 columns]\n"
     ]
    }
   ],
   "source": [
    "\n",
    "old_geodf_list = pd.read_csv(tract_ma_2019_csv)\n",
    "\n",
    "int_columns = ['STATEFP', 'COUNTYFP', 'TRACTCE']\n",
    "geodf_list[int_columns] = geodf_list[int_columns].astype(int)\n",
    "geodf_list['INTPTLAT'] = geodf_list['INTPTLAT'].astype(float)\n",
    "geodf_list['INTPTLON'] = geodf_list['INTPTLON'].astype(float)\n",
    "full_geodf_list = old_geodf_list.merge(geodf_list, on = ['STATEFP','COUNTYFP','TRACTCE','INTPTLAT','INTPTLON'], how = 'outer').sort_values(by='tract_index')\n",
    "\n",
    "N = len(full_geodf_list)\n",
    "full_geodf_list['tract_index'] = range(N)\n",
    "\n",
    "print(full_geodf_list)"
   ]
  },
  {
   "cell_type": "code",
   "execution_count": 26,
   "metadata": {},
   "outputs": [
    {
     "name": "stderr",
     "output_type": "stream",
     "text": [
      "C:\\Users\\local_dmh5950\\Temp\\ipykernel_21840\\2126735139.py:7: UserWarning: Column names longer than 10 characters will be truncated when saved to ESRI Shapefile.\n",
      "  merged_gdf.to_file(tract2019_bo_shp)\n"
     ]
    }
   ],
   "source": [
    "int_columns = ['STATEFP', 'COUNTYFP', 'TRACTCE']\n",
    "gdf[int_columns] = gdf[int_columns].astype(int)\n",
    "gdf['INTPTLAT'] = gdf['INTPTLAT'].astype(float)\n",
    "gdf['INTPTLON'] = gdf['INTPTLON'].astype(float)\n",
    "\n",
    "merged_gdf = gdf.merge(full_geodf_list, on=['STATEFP','COUNTYFP','TRACTCE','INTPTLAT','INTPTLON'], how='inner')\n",
    "merged_gdf.to_file(tract2019_bo_shp)\n",
    "\n",
    "full_geodf_list.to_csv(tract_ma_2019_csv,index = False)"
   ]
  }
 ],
 "metadata": {
  "kernelspec": {
   "display_name": "Python 3",
   "language": "python",
   "name": "python3"
  },
  "language_info": {
   "codemirror_mode": {
    "name": "ipython",
    "version": 3
   },
   "file_extension": ".py",
   "mimetype": "text/x-python",
   "name": "python",
   "nbconvert_exporter": "python",
   "pygments_lexer": "ipython3",
   "version": "3.11.0"
  },
  "orig_nbformat": 4
 },
 "nbformat": 4,
 "nbformat_minor": 2
}
