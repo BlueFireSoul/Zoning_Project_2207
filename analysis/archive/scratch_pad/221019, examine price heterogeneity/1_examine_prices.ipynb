{
 "cells": [
  {
   "cell_type": "code",
   "execution_count": 1,
   "metadata": {},
   "outputs": [
    {
     "ename": "ModuleNotFoundError",
     "evalue": "No module named 'dfply'",
     "output_type": "error",
     "traceback": [
      "\u001b[1;31m---------------------------------------------------------------------------\u001b[0m",
      "\u001b[1;31mModuleNotFoundError\u001b[0m                       Traceback (most recent call last)",
      "\u001b[1;32m~\\AppData\\Local\\Temp\\ipykernel_17112\\3757510408.py\u001b[0m in \u001b[0;36m<module>\u001b[1;34m\u001b[0m\n\u001b[0;32m      8\u001b[0m \u001b[1;32mfrom\u001b[0m \u001b[0mpathlib\u001b[0m \u001b[1;32mimport\u001b[0m \u001b[0mPath\u001b[0m\u001b[1;33m\u001b[0m\u001b[1;33m\u001b[0m\u001b[0m\n\u001b[0;32m      9\u001b[0m \u001b[1;32mimport\u001b[0m \u001b[0msys\u001b[0m\u001b[1;33m\u001b[0m\u001b[1;33m\u001b[0m\u001b[0m\n\u001b[1;32m---> 10\u001b[1;33m \u001b[1;32mfrom\u001b[0m \u001b[0mdfply\u001b[0m \u001b[1;32mimport\u001b[0m \u001b[0mX\u001b[0m\u001b[1;33m,\u001b[0m \u001b[0mmutate\u001b[0m\u001b[1;33m,\u001b[0m \u001b[0marrange\u001b[0m\u001b[1;33m,\u001b[0m \u001b[0mselect\u001b[0m\u001b[1;33m,\u001b[0m \u001b[0mmask\u001b[0m\u001b[1;33m,\u001b[0m \u001b[0mdistinct\u001b[0m\u001b[1;33m,\u001b[0m \u001b[0mdrop\u001b[0m\u001b[1;33m,\u001b[0m \u001b[0mrename\u001b[0m\u001b[1;33m\u001b[0m\u001b[1;33m\u001b[0m\u001b[0m\n\u001b[0m\u001b[0;32m     11\u001b[0m \u001b[1;33m\u001b[0m\u001b[0m\n\u001b[0;32m     12\u001b[0m \u001b[1;33m\u001b[0m\u001b[0m\n",
      "\u001b[1;31mModuleNotFoundError\u001b[0m: No module named 'dfply'"
     ]
    }
   ],
   "source": [
    "%reset -f\n",
    "\n",
    "import os\n",
    "import numpy as np\n",
    "import csv\n",
    "import pandas as pd\n",
    "from pandas import DataFrame as df\n",
    "from pathlib import Path\n",
    "import sys\n",
    "from dfply import X, mutate, arrange, select, mask, distinct, drop, rename\n",
    "\n",
    "\n",
    "def A_preparation(full_set):\n",
    "    if os.getlogin( ) == '67311':\n",
    "        parameters = ({\n",
    "            \"primary_directory\" : \"C:/Users/67311/OneDrive - The Pennsylvania State University/Los Angeles Zoning, 2022/\"\n",
    "        })\n",
    "    elif os.getlogin( ) == 'dmh5950':\n",
    "        parameters = ({\n",
    "            \"primary_directory\" : \"C:/Users/dmh5950/OneDrive - The Pennsylvania State University/Los Angeles Zoning, 2022/\"\n",
    "        })\n",
    "\n",
    "    parameters.update({\n",
    "        \"full_set\" : full_set,\n",
    "        \"property_data_folder\" : parameters['primary_directory'] + \"cleaning/output/\"\n",
    "    })\n",
    "\n",
    "    parameters.update({\n",
    "        \"property_data_csv\" : parameters['property_data_folder'] + \"hist_property_basic5_Los_adj10p.csv\"\n",
    "    })\n",
    "\n",
    "    return parameters\n",
    "\n",
    "\n",
    "parameters = A_preparation(full_set = False)\n"
   ]
  },
  {
   "cell_type": "code",
   "execution_count": 3,
   "metadata": {},
   "outputs": [],
   "source": [
    "if parameters['full_set']== False:\n",
    "    row_limit = 10000\n",
    "else: \n",
    "    row_limit = None\n",
    "\n",
    "property_data = pd.read_csv(parameters['property_data_csv'], skipinitialspace=True, nrows = row_limit, dtype=str)\n",
    "variable_names = df(property_data.columns)"
   ]
  }
 ],
 "metadata": {
  "kernelspec": {
   "display_name": "Python 3.9.13 ('base')",
   "language": "python",
   "name": "python3"
  },
  "language_info": {
   "codemirror_mode": {
    "name": "ipython",
    "version": 3
   },
   "file_extension": ".py",
   "mimetype": "text/x-python",
   "name": "python",
   "nbconvert_exporter": "python",
   "pygments_lexer": "ipython3",
   "version": "3.9.13"
  },
  "orig_nbformat": 4,
  "vscode": {
   "interpreter": {
    "hash": "a3194b5e00210e2cbdb506c1842784b9628e5ab0f1be78eeaff8d6cdafcab73b"
   }
  }
 },
 "nbformat": 4,
 "nbformat_minor": 2
}
